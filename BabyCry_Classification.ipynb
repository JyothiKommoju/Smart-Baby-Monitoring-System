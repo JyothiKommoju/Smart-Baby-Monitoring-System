{
  "cells": [
    {
      "cell_type": "code",
      "execution_count": 2,
      "metadata": {},
      "outputs": [
        {
          "name": "stdout",
          "output_type": "stream",
          "text": [
            "Requirement already satisfied: librosa in c:\\python311\\lib\\site-packages (0.10.1)Note: you may need to restart the kernel to use updated packages.\n",
            "\n",
            "Requirement already satisfied: audioread>=2.1.9 in c:\\users\\vyjayanthi\\appdata\\roaming\\python\\python311\\site-packages (from librosa) (3.0.1)\n",
            "Requirement already satisfied: numpy!=1.22.0,!=1.22.1,!=1.22.2,>=1.20.3 in c:\\python311\\lib\\site-packages (from librosa) (1.26.4)\n",
            "Requirement already satisfied: scipy>=1.2.0 in c:\\python311\\lib\\site-packages (from librosa) (1.12.0)\n",
            "Requirement already satisfied: scikit-learn>=0.20.0 in c:\\users\\vyjayanthi\\appdata\\roaming\\python\\python311\\site-packages (from librosa) (1.4.0)\n",
            "Requirement already satisfied: joblib>=0.14 in c:\\python311\\lib\\site-packages (from librosa) (1.3.2)\n",
            "Requirement already satisfied: decorator>=4.3.0 in c:\\python311\\lib\\site-packages (from librosa) (5.1.1)\n",
            "Requirement already satisfied: numba>=0.51.0 in c:\\users\\vyjayanthi\\appdata\\roaming\\python\\python311\\site-packages (from librosa) (0.59.0)\n",
            "Requirement already satisfied: soundfile>=0.12.1 in c:\\users\\vyjayanthi\\appdata\\roaming\\python\\python311\\site-packages (from librosa) (0.12.1)\n",
            "Requirement already satisfied: pooch>=1.0 in c:\\users\\vyjayanthi\\appdata\\roaming\\python\\python311\\site-packages (from librosa) (1.8.0)\n",
            "Requirement already satisfied: soxr>=0.3.2 in c:\\python311\\lib\\site-packages (from librosa) (0.3.7)\n",
            "Requirement already satisfied: typing-extensions>=4.1.1 in c:\\python311\\lib\\site-packages (from librosa) (4.10.0)\n",
            "Requirement already satisfied: lazy-loader>=0.1 in c:\\python311\\lib\\site-packages (from librosa) (0.3)\n",
            "Requirement already satisfied: msgpack>=1.0 in c:\\python311\\lib\\site-packages (from librosa) (1.0.8)\n",
            "Requirement already satisfied: llvmlite<0.43,>=0.42.0dev0 in c:\\python311\\lib\\site-packages (from numba>=0.51.0->librosa) (0.42.0)\n",
            "Requirement already satisfied: platformdirs>=2.5.0 in c:\\python311\\lib\\site-packages (from pooch>=1.0->librosa) (4.2.0)\n",
            "Requirement already satisfied: packaging>=20.0 in c:\\python311\\lib\\site-packages (from pooch>=1.0->librosa) (23.2)\n",
            "Requirement already satisfied: requests>=2.19.0 in c:\\users\\vyjayanthi\\appdata\\roaming\\python\\python311\\site-packages (from pooch>=1.0->librosa) (2.31.0)\n",
            "Requirement already satisfied: threadpoolctl>=2.0.0 in c:\\python311\\lib\\site-packages (from scikit-learn>=0.20.0->librosa) (3.4.0)\n",
            "Requirement already satisfied: cffi>=1.0 in c:\\users\\vyjayanthi\\appdata\\roaming\\python\\python311\\site-packages (from soundfile>=0.12.1->librosa) (1.16.0)\n",
            "Requirement already satisfied: pycparser in c:\\python311\\lib\\site-packages (from cffi>=1.0->soundfile>=0.12.1->librosa) (2.22)\n",
            "Requirement already satisfied: charset-normalizer<4,>=2 in c:\\python311\\lib\\site-packages (from requests>=2.19.0->pooch>=1.0->librosa) (3.3.2)\n",
            "Requirement already satisfied: idna<4,>=2.5 in c:\\python311\\lib\\site-packages (from requests>=2.19.0->pooch>=1.0->librosa) (3.6)\n",
            "Requirement already satisfied: urllib3<3,>=1.21.1 in c:\\python311\\lib\\site-packages (from requests>=2.19.0->pooch>=1.0->librosa) (2.2.1)\n",
            "Requirement already satisfied: certifi>=2017.4.17 in c:\\users\\vyjayanthi\\appdata\\roaming\\python\\python311\\site-packages (from requests>=2.19.0->pooch>=1.0->librosa) (2024.2.2)\n",
            "Requirement already satisfied: scikit-learn in c:\\users\\vyjayanthi\\appdata\\roaming\\python\\python311\\site-packages (1.4.0)Note: you may need to restart the kernel to use updated packages.\n",
            "\n",
            "Requirement already satisfied: numpy<2.0,>=1.19.5 in c:\\python311\\lib\\site-packages (from scikit-learn) (1.26.4)\n",
            "Requirement already satisfied: scipy>=1.6.0 in c:\\python311\\lib\\site-packages (from scikit-learn) (1.12.0)\n",
            "Requirement already satisfied: joblib>=1.2.0 in c:\\python311\\lib\\site-packages (from scikit-learn) (1.3.2)\n",
            "Requirement already satisfied: threadpoolctl>=2.0.0 in c:\\python311\\lib\\site-packages (from scikit-learn) (3.4.0)\n",
            "Collecting pydub\n",
            "  Using cached pydub-0.25.1-py2.py3-none-any.whl.metadata (1.4 kB)\n",
            "Using cached pydub-0.25.1-py2.py3-none-any.whl (32 kB)\n",
            "Installing collected packages: pydub\n",
            "Successfully installed pydub-0.25.1\n",
            "Note: you may need to restart the kernel to use updated packages.\n",
            "Requirement already satisfied: pandas in c:\\python311\\lib\\site-packages (2.2.1)\n",
            "Requirement already satisfied: numpy<2,>=1.23.2 in c:\\python311\\lib\\site-packages (from pandas) (1.26.4)\n",
            "Requirement already satisfied: python-dateutil>=2.8.2 in c:\\users\\vyjayanthi\\appdata\\roaming\\python\\python311\\site-packages (from pandas) (2.8.2)\n",
            "Requirement already satisfied: pytz>=2020.1 in c:\\python311\\lib\\site-packages (from pandas) (2024.1)\n",
            "Requirement already satisfied: tzdata>=2022.7 in c:\\python311\\lib\\site-packages (from pandas) (2024.1)\n",
            "Requirement already satisfied: six>=1.5 in c:\\python311\\lib\\site-packages (from python-dateutil>=2.8.2->pandas) (1.16.0)\n",
            "Note: you may need to restart the kernel to use updated packages.\n"
          ]
        }
      ],
      "source": [
        " %pip install librosa\n",
        " %pip install scikit-learn\n",
        " %pip install pydub\n",
        " %pip install pandas"
      ]
    },
    {
      "cell_type": "code",
      "execution_count": 4,
      "metadata": {
        "id": "W-A7-OtL7s-9"
      },
      "outputs": [],
      "source": [
        "import os\n",
        "import pandas as pd\n",
        "import librosa\n",
        "import numpy as np\n",
        "from sklearn.model_selection import train_test_split\n",
        "from sklearn.ensemble import RandomForestClassifier\n",
        "from sklearn.linear_model import LogisticRegression\n",
        "from sklearn.tree import DecisionTreeClassifier\n",
        "from sklearn.svm import SVC\n",
        "import tensorflow as tf\n",
        "from sklearn.preprocessing import LabelEncoder\n",
        "from sklearn.metrics import accuracy_score, precision_score, recall_score\n",
        "from tensorflow.keras.models import Sequential\n",
        "from tensorflow.keras.layers import LSTM, Dense, Dropout\n",
        "import pickle\n",
        "from collections import Counter\n",
        "from pydub import AudioSegment\n",
        "from io import BytesIO\n",
        "import wave\n",
        "import math\n",
        "import uuid"
      ]
    },
    {
      "cell_type": "code",
      "execution_count": 5,
      "metadata": {
        "id": "47ziMC1A704O"
      },
      "outputs": [],
      "source": [
        "raw_audio = {}\n",
        "\n",
        "directories = ['hungry', 'belly_pain', 'burping', 'discomfort', 'tired']\n",
        "for directory in directories:\n",
        "    path = r\"./data/\" + directory\n",
        "    for filename in os.listdir(path):\n",
        "        if filename.endswith(\".wav\"):\n",
        "            raw_audio[os.path.join(path, filename)] = directory\n"
      ]
    },
    {
      "cell_type": "code",
      "execution_count": 6,
      "metadata": {
        "id": "J7MgUZdVyVtE"
      },
      "outputs": [],
      "source": [
        "def extract_mfcc(audio_file, max_length=100):\n",
        "    audiofile, sr = librosa.load(audio_file)\n",
        "    fingerprint = librosa.feature.mfcc(y=audiofile, sr=sr, n_mfcc=20)\n",
        "    if fingerprint.shape[1] < max_length:\n",
        "        pad_width = max_length - fingerprint.shape[1]\n",
        "        fingerprint_padded = np.pad(fingerprint, pad_width=((0, 0), (0, pad_width)), mode='constant')\n",
        "        return fingerprint_padded.T\n",
        "    elif fingerprint.shape[1] > max_length:\n",
        "        return fingerprint[:, :max_length].T\n",
        "    else:\n",
        "        return fingerprint.T\n",
        "\n",
        "\n",
        "X = []\n",
        "y = []\n",
        "max_length = 100\n",
        "\n",
        "for i, (audio_file, label) in enumerate(raw_audio.items()):\n",
        "    mfcc_features = extract_mfcc(audio_file, max_length=max_length)\n",
        "    X.append(mfcc_features.flatten())\n",
        "    y.append(label)\n",
        "\n",
        "df = pd.DataFrame(X)\n",
        "df = df.fillna(0)\n",
        "df['label'] = y\n",
        "df.to_csv('audio_dataset.csv', index=False)\n",
        "\n"
      ]
    },
    {
      "cell_type": "code",
      "execution_count": 7,
      "metadata": {
        "id": "_eXJ6Pf18Nnf"
      },
      "outputs": [],
      "source": [
        "X = np.array(X)\n",
        "y = np.array(y)\n",
        "\n",
        "X_flat = X.reshape(X.shape[0], -1)\n",
        "y_flat = y\n",
        "\n",
        "X_train, X_test, y_train, y_test = train_test_split(X_flat, y_flat, test_size=0.2, random_state=42)\n"
      ]
    },
    {
      "cell_type": "code",
      "execution_count": 9,
      "metadata": {
        "id": "6cbk_h4P8Wm2"
      },
      "outputs": [],
      "source": [
        "\n",
        "# Train and evaluate models\n",
        "models = [\n",
        "    ('Random Forest', RandomForestClassifier(n_estimators=25, max_features=5)),\n",
        "    ('Logistic Regression', LogisticRegression()),\n",
        "    ('Decision Tree', DecisionTreeClassifier()),\n",
        "    ('SVM', SVC()),\n",
        "]\n",
        "\n"
      ]
    },
    {
      "cell_type": "code",
      "execution_count": 10,
      "metadata": {
        "colab": {
          "base_uri": "https://localhost:8080/"
        },
        "id": "FFSjIisU-Bj9",
        "outputId": "3fccdd46-a6c8-4eef-a6c2-bea03066810f"
      },
      "outputs": [
        {
          "name": "stdout",
          "output_type": "stream",
          "text": [
            "Model, Accuracy, Precision, Recall\n"
          ]
        },
        {
          "name": "stderr",
          "output_type": "stream",
          "text": [
            "C:\\Users\\vyjayanthi\\AppData\\Roaming\\Python\\Python311\\site-packages\\sklearn\\metrics\\_classification.py:1497: UndefinedMetricWarning: Precision is ill-defined and being set to 0.0 in labels with no predicted samples. Use `zero_division` parameter to control this behavior.\n",
            "  _warn_prf(average, modifier, f\"{metric.capitalize()} is\", len(result))\n"
          ]
        },
        {
          "name": "stdout",
          "output_type": "stream",
          "text": [
            "Random Forest: 0.8043478260869565, 0.6469754253308129, 0.8043478260869565\n"
          ]
        },
        {
          "name": "stderr",
          "output_type": "stream",
          "text": [
            "C:\\Users\\vyjayanthi\\AppData\\Roaming\\Python\\Python311\\site-packages\\sklearn\\linear_model\\_logistic.py:469: ConvergenceWarning: lbfgs failed to converge (status=1):\n",
            "STOP: TOTAL NO. of ITERATIONS REACHED LIMIT.\n",
            "\n",
            "Increase the number of iterations (max_iter) or scale the data as shown in:\n",
            "    https://scikit-learn.org/stable/modules/preprocessing.html\n",
            "Please also refer to the documentation for alternative solver options:\n",
            "    https://scikit-learn.org/stable/modules/linear_model.html#logistic-regression\n",
            "  n_iter_i = _check_optimize_result(\n"
          ]
        },
        {
          "name": "stdout",
          "output_type": "stream",
          "text": [
            "Logistic Regression: 0.7065217391304348, 0.6729636763896533, 0.7065217391304348\n",
            "Decision Tree: 0.717391304347826, 0.7059420289855073, 0.717391304347826\n",
            "SVM: 0.8043478260869565, 0.6469754253308129, 0.8043478260869565\n"
          ]
        },
        {
          "name": "stderr",
          "output_type": "stream",
          "text": [
            "C:\\Users\\vyjayanthi\\AppData\\Roaming\\Python\\Python311\\site-packages\\sklearn\\metrics\\_classification.py:1497: UndefinedMetricWarning: Precision is ill-defined and being set to 0.0 in labels with no predicted samples. Use `zero_division` parameter to control this behavior.\n",
            "  _warn_prf(average, modifier, f\"{metric.capitalize()} is\", len(result))\n"
          ]
        }
      ],
      "source": [
        "print(\"Model, Accuracy, Precision, Recall\")\n",
        "for model_name, model in models:\n",
        "    model.fit(X_train, y_train)\n",
        "    y_pred = model.predict(X_test)\n",
        "    accuracy = accuracy_score(y_test, y_pred)\n",
        "    precision = precision_score(y_test, y_pred, average='weighted')\n",
        "    recall = recall_score(y_test, y_pred, average='weighted')\n",
        "    print(f\"{model_name}: {accuracy}, {precision}, {recall}\")"
      ]
    },
    {
      "cell_type": "code",
      "execution_count": 11,
      "metadata": {
        "colab": {
          "base_uri": "https://localhost:8080/"
        },
        "id": "PdH0N-idBi08",
        "outputId": "42b21197-82ba-44ae-e1e8-310a6e1df7dc"
      },
      "outputs": [
        {
          "name": "stdout",
          "output_type": "stream",
          "text": [
            "(365, 2000)\n"
          ]
        }
      ],
      "source": [
        "print(X_train.shape)\n"
      ]
    },
    {
      "cell_type": "code",
      "execution_count": 12,
      "metadata": {
        "colab": {
          "base_uri": "https://localhost:8080/"
        },
        "id": "7-BdnDwr_c1N",
        "outputId": "db8c04ed-f59a-4cc4-bc51-7d5451190190"
      },
      "outputs": [
        {
          "name": "stdout",
          "output_type": "stream",
          "text": [
            "WARNING:tensorflow:From c:\\Python311\\Lib\\site-packages\\keras\\src\\layers\\rnn\\lstm.py:148: The name tf.executing_eagerly_outside_functions is deprecated. Please use tf.compat.v1.executing_eagerly_outside_functions instead.\n",
            "\n",
            "WARNING:tensorflow:From c:\\Python311\\Lib\\site-packages\\keras\\src\\optimizers\\__init__.py:309: The name tf.train.Optimizer is deprecated. Please use tf.compat.v1.train.Optimizer instead.\n",
            "\n",
            "Epoch 1/10\n",
            "WARNING:tensorflow:From c:\\Python311\\Lib\\site-packages\\keras\\src\\utils\\tf_utils.py:492: The name tf.ragged.RaggedTensorValue is deprecated. Please use tf.compat.v1.ragged.RaggedTensorValue instead.\n",
            "\n",
            "WARNING:tensorflow:From c:\\Python311\\Lib\\site-packages\\keras\\src\\engine\\base_layer_utils.py:384: The name tf.executing_eagerly_outside_functions is deprecated. Please use tf.compat.v1.executing_eagerly_outside_functions instead.\n",
            "\n",
            "10/10 [==============================] - 5s 132ms/step - loss: 1.2795 - accuracy: 0.4623 - val_loss: 0.7053 - val_accuracy: 0.8630\n",
            "Epoch 2/10\n",
            "10/10 [==============================] - 1s 52ms/step - loss: 0.7074 - accuracy: 0.8390 - val_loss: 0.6604 - val_accuracy: 0.8630\n",
            "Epoch 3/10\n",
            "10/10 [==============================] - 0s 48ms/step - loss: 0.7341 - accuracy: 0.8390 - val_loss: 0.6391 - val_accuracy: 0.8630\n",
            "Epoch 4/10\n",
            "10/10 [==============================] - 0s 46ms/step - loss: 0.6570 - accuracy: 0.8390 - val_loss: 0.6104 - val_accuracy: 0.8630\n",
            "Epoch 5/10\n",
            "10/10 [==============================] - 1s 55ms/step - loss: 0.6607 - accuracy: 0.8390 - val_loss: 0.6114 - val_accuracy: 0.8630\n",
            "Epoch 6/10\n",
            "10/10 [==============================] - 0s 46ms/step - loss: 0.6503 - accuracy: 0.8390 - val_loss: 0.6152 - val_accuracy: 0.8630\n",
            "Epoch 7/10\n",
            "10/10 [==============================] - 0s 46ms/step - loss: 0.6309 - accuracy: 0.8390 - val_loss: 0.6019 - val_accuracy: 0.8630\n",
            "Epoch 8/10\n",
            "10/10 [==============================] - 0s 51ms/step - loss: 0.6043 - accuracy: 0.8390 - val_loss: 0.5979 - val_accuracy: 0.8630\n",
            "Epoch 9/10\n",
            "10/10 [==============================] - 0s 49ms/step - loss: 0.6291 - accuracy: 0.8390 - val_loss: 0.6037 - val_accuracy: 0.8630\n",
            "Epoch 10/10\n",
            "10/10 [==============================] - 0s 44ms/step - loss: 0.6058 - accuracy: 0.8390 - val_loss: 0.6152 - val_accuracy: 0.8630\n",
            "3/3 [==============================] - 1s 21ms/step - loss: 0.8012 - accuracy: 0.8043\n",
            "Accuracy: 0.804347813129425\n",
            "3/3 [==============================] - 1s 20ms/step\n",
            "Precision: 0.6469754253308129\n",
            "Recall: 0.8043478260869565\n"
          ]
        },
        {
          "name": "stderr",
          "output_type": "stream",
          "text": [
            "C:\\Users\\vyjayanthi\\AppData\\Roaming\\Python\\Python311\\site-packages\\sklearn\\metrics\\_classification.py:1497: UndefinedMetricWarning: Precision is ill-defined and being set to 0.0 in labels with no predicted samples. Use `zero_division` parameter to control this behavior.\n",
            "  _warn_prf(average, modifier, f\"{metric.capitalize()} is\", len(result))\n"
          ]
        }
      ],
      "source": [
        "n_samples, n_features = X_train.shape[0], X_train.shape[1] // 100\n",
        "n_timesteps = 100\n",
        "X_train_lstm = X_train.reshape((n_samples, 100, 20))\n",
        "n_samples_test = X_test.shape[0]\n",
        "X_test_lstm = X_test.reshape((n_samples_test, n_timesteps, n_features))\n",
        "\n",
        "label_encoder = LabelEncoder()\n",
        "y_train_encoded = label_encoder.fit_transform(y_train)\n",
        "y_test_encoded = label_encoder.transform(y_test)\n",
        "\n",
        "lstm_model = Sequential([\n",
        "    LSTM(units=128, input_shape=(n_timesteps, n_features)),\n",
        "    Dropout(0.2),\n",
        "    Dense(units=64, activation='relu'),\n",
        "    Dropout(0.2),\n",
        "    Dense(units=len(np.unique(y_train_encoded)), activation='softmax')\n",
        "])\n",
        "\n",
        "\n",
        "lstm_model.compile(optimizer='adam', loss='sparse_categorical_crossentropy', metrics=['accuracy'])\n",
        "\n",
        "lstm_model.fit(X_train_lstm, y_train_encoded, epochs=10, batch_size=32, validation_split=0.2)\n",
        "\n",
        "_, accuracy = lstm_model.evaluate(X_test_lstm, y_test_encoded)\n",
        "print(\"Accuracy:\", accuracy)\n",
        "\n",
        "from sklearn.metrics import precision_score, recall_score\n",
        "\n",
        "predicted_probabilities = lstm_model.predict(X_test_lstm)\n",
        "\n",
        "predicted_labels = np.argmax(predicted_probabilities, axis=1)\n",
        "\n",
        "precision = precision_score(y_test_encoded, predicted_labels, average='weighted')\n",
        "\n",
        "recall = recall_score(y_test_encoded, predicted_labels, average='weighted')\n",
        "\n",
        "print(\"Precision:\", precision)\n",
        "print(\"Recall:\", recall)"
      ]
    },
    {
      "cell_type": "code",
      "execution_count": 13,
      "metadata": {
        "colab": {
          "base_uri": "https://localhost:8080/"
        },
        "id": "j4Ll8k9I0NzE",
        "outputId": "5cdf2450-a0f7-4e3c-c075-56c6739aa67c"
      },
      "outputs": [
        {
          "data": {
            "text/plain": [
              "['lstm_audio_model.joblib']"
            ]
          },
          "execution_count": 13,
          "metadata": {},
          "output_type": "execute_result"
        }
      ],
      "source": [
        "import joblib\n",
        "\n",
        "joblib.dump(lstm_model, \"lstm_audio_model.joblib\")\n"
      ]
    },
    {
      "cell_type": "code",
      "execution_count": 14,
      "metadata": {
        "id": "yhf5-K372ez0"
      },
      "outputs": [],
      "source": [
        "def pickle_model(model, modelname):\n",
        "    directory = 'models'\n",
        "    if not os.path.exists(directory):\n",
        "        os.makedirs(directory)\n",
        "    with open(os.path.join(directory, str(modelname) + '.pkl'), 'wb') as f:\n",
        "        return pickle.dump(model, f)\n",
        "\n",
        "model = RandomForestClassifier()\n",
        "model.fit(X_train, y_train)\n",
        "pickle_model(model, \"myModel\")"
      ]
    },
    {
      "cell_type": "code",
      "execution_count": 15,
      "metadata": {
        "id": "vJC2hBXJogh8"
      },
      "outputs": [],
      "source": [
        "def getModel(pickle_path):\n",
        "  with open(pickle_path, 'rb') as f:\n",
        "        return pickle.load(f)"
      ]
    },
    {
      "cell_type": "code",
      "execution_count": 16,
      "metadata": {
        "colab": {
          "base_uri": "https://localhost:8080/"
        },
        "id": "ypgf53c-1zGb",
        "outputId": "12d3be75-a6ca-4073-c47d-becb255c929d"
      },
      "outputs": [
        {
          "name": "stdout",
          "output_type": "stream",
          "text": [
            "Collecting ffmpeg-pythonNote: you may need to restart the kernel to use updated packages.\n",
            "\n",
            "  Using cached ffmpeg_python-0.2.0-py3-none-any.whl.metadata (1.7 kB)\n",
            "Collecting future (from ffmpeg-python)\n",
            "  Downloading future-1.0.0-py3-none-any.whl.metadata (4.0 kB)\n",
            "Using cached ffmpeg_python-0.2.0-py3-none-any.whl (25 kB)\n",
            "Downloading future-1.0.0-py3-none-any.whl (491 kB)\n",
            "   ---------------------------------------- 0.0/491.3 kB ? eta -:--:--\n",
            "    --------------------------------------- 10.2/491.3 kB ? eta -:--:--\n",
            "   ---- ---------------------------------- 61.4/491.3 kB 656.4 kB/s eta 0:00:01\n",
            "   ----------- ---------------------------- 143.4/491.3 kB 1.1 MB/s eta 0:00:01\n",
            "   --------------- ------------------------ 194.6/491.3 kB 1.1 MB/s eta 0:00:01\n",
            "   -------------------- ------------------- 245.8/491.3 kB 1.1 MB/s eta 0:00:01\n",
            "   ------------------------ --------------- 297.0/491.3 kB 1.1 MB/s eta 0:00:01\n",
            "   ---------------------------- ----------- 348.2/491.3 kB 1.1 MB/s eta 0:00:01\n",
            "   -------------------------------- ------- 399.4/491.3 kB 1.1 MB/s eta 0:00:01\n",
            "   ----------------------------------- ---- 430.1/491.3 kB 1.1 MB/s eta 0:00:01\n",
            "   ---------------------------------------  481.3/491.3 kB 1.2 MB/s eta 0:00:01\n",
            "   ---------------------------------------  481.3/491.3 kB 1.2 MB/s eta 0:00:01\n",
            "   -------------------------------------- 491.3/491.3 kB 962.2 kB/s eta 0:00:00\n",
            "Installing collected packages: future, ffmpeg-python\n",
            "Successfully installed ffmpeg-python-0.2.0 future-1.0.0\n"
          ]
        }
      ],
      "source": [
        "# %pip install pydub --user\n",
        "%pip install ffmpeg-python"
      ]
    },
    {
      "cell_type": "code",
      "execution_count": 17,
      "metadata": {},
      "outputs": [
        {
          "name": "stdout",
          "output_type": "stream",
          "text": [
            "Predicted Label: hungry\n"
          ]
        }
      ],
      "source": [
        "import os\n",
        "import librosa\n",
        "import numpy as np\n",
        "from sklearn.ensemble import RandomForestClassifier\n",
        "import joblib\n",
        "from collections import Counter\n",
        "\n",
        "rf_model = joblib.load(\"./models/myModel.pkl\")  # Replace with your model path\n",
        "\n",
        "def extract_mfcc(audio_file, max_length=100):\n",
        "    audiofile, sr = librosa.load(audio_file)\n",
        "    fingerprint = librosa.feature.mfcc(y=audiofile, sr=sr, n_mfcc=20)\n",
        "    if fingerprint.shape[1] < max_length:\n",
        "        pad_width = max_length - fingerprint.shape[1]\n",
        "        fingerprint_padded = np.pad(fingerprint, pad_width=((0, 0), (0, pad_width)), mode='constant')\n",
        "        return fingerprint_padded.T\n",
        "    elif fingerprint.shape[1] > max_length:\n",
        "        return fingerprint[:, :max_length].T\n",
        "    else:\n",
        "        return fingerprint.T\n",
        "\n",
        "audio_file_path = './data/hungry/02c3b725-26e4-4a2c-9336-04ddc58836d9-1430726196216-1.7-m-04-hu.wav'  # Replace with your actual audio file path\n",
        "\n",
        "mfcc_features = extract_mfcc(audio_file_path)\n",
        "\n",
        "mfcc_features_flat = mfcc_features.flatten()\n",
        "\n",
        "prediction = rf_model.predict([mfcc_features_flat])\n",
        "\n",
        "print(\"Predicted Label:\", prediction[0])"
      ]
    }
  ],
  "metadata": {
    "colab": {
      "provenance": []
    },
    "kernelspec": {
      "display_name": "Python 3",
      "name": "python3"
    },
    "language_info": {
      "codemirror_mode": {
        "name": "ipython",
        "version": 3
      },
      "file_extension": ".py",
      "mimetype": "text/x-python",
      "name": "python",
      "nbconvert_exporter": "python",
      "pygments_lexer": "ipython3",
      "version": "3.11.8"
    }
  },
  "nbformat": 4,
  "nbformat_minor": 0
}
